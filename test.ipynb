{
 "cells": [
  {
   "cell_type": "code",
   "execution_count": 2,
   "metadata": {},
   "outputs": [],
   "source": [
    "import pandas as pd\n",
    "from sklearn.datasets import load_breast_cancer\n",
    "from sklearn.model_selection import train_test_split\n",
    "\n",
    "# Cargar el dataset\n",
    "bc = load_breast_cancer()\n",
    "df = pd.DataFrame(bc.data, columns=bc.feature_names)\n",
    "df['target'] = bc.target  # Agregar la columna de etiquetas\n",
    "\n",
    "# Dividir en conjunto de entrenamiento (80%) y prueba (20%)\n",
    "train_df, test_df = train_test_split(df, test_size=0.2, random_state=42, stratify=df['target'])\n",
    "\n",
    "y_train = train_df['target']\n",
    "y_test = test_df['target']\n",
    "\n",
    "X_train = train_df.drop('target', axis=1)\n",
    "X_test = test_df.drop('target', axis=1)\n"
   ]
  },
  {
   "cell_type": "code",
   "execution_count": 3,
   "metadata": {},
   "outputs": [],
   "source": [
    "# Guardar en archivos CSV\n",
    "\n",
    "X_train.to_csv(\"dataset_bc/X_train.csv\", index=False)\n",
    "X_test.to_csv(\"dataset_bc/X_test.csv\", index=False)\n",
    "y_train.to_csv(\"dataset_bc/y_train.csv\", index=False)\n",
    "y_test.to_csv(\"dataset_bc/y_test.csv\", index=False)"
   ]
  }
 ],
 "metadata": {
  "kernelspec": {
   "display_name": "Python 3",
   "language": "python",
   "name": "python3"
  },
  "language_info": {
   "codemirror_mode": {
    "name": "ipython",
    "version": 3
   },
   "file_extension": ".py",
   "mimetype": "text/x-python",
   "name": "python",
   "nbconvert_exporter": "python",
   "pygments_lexer": "ipython3",
   "version": "3.12.4"
  }
 },
 "nbformat": 4,
 "nbformat_minor": 2
}
